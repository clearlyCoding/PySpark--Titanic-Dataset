{
  "nbformat": 4,
  "nbformat_minor": 0,
  "metadata": {
    "colab": {
      "name": "Untitled0.ipynb",
      "provenance": [],
      "history_visible": true,
      "authorship_tag": "ABX9TyPrgmKFvfRc4W8X2aINecCd",
      "include_colab_link": true
    },
    "kernelspec": {
      "name": "python3",
      "display_name": "Python 3"
    },
    "language_info": {
      "name": "python"
    }
  },
  "cells": [
    {
      "cell_type": "markdown",
      "metadata": {
        "id": "view-in-github",
        "colab_type": "text"
      },
      "source": [
        "<a href=\"https://colab.research.google.com/github/clearlyCoding/PySpark--Titanic-Dataset/blob/main/Titanic%20DFs.ipynb\" target=\"_parent\"><img src=\"https://colab.research.google.com/assets/colab-badge.svg\" alt=\"Open In Colab\"/></a>"
      ]
    },
    {
      "cell_type": "code",
      "execution_count": 1,
      "metadata": {
        "id": "qeSa7cAUpkbr"
      },
      "outputs": [],
      "source": [
        "!apt-get install openjdk-8-jdk-headless -qq > /dev/null\n",
        "!wget -q http://archive.apache.org/dist/spark/spark-3.1.1/spark-3.1.1-bin-hadoop3.2.tgz\n",
        "!tar xf spark-3.1.1-bin-hadoop3.2.tgz\n",
        "!pip install -q findspark\n"
      ]
    },
    {
      "cell_type": "code",
      "source": [
        "import os\n",
        "os.environ[\"JAVA_HOME\"] = \"/usr/lib/jvm/java-8-openjdk-amd64\"\n",
        "os.environ[\"SPARK_HOME\"] = \"/content/spark-3.1.1-bin-hadoop3.2\"\n"
      ],
      "metadata": {
        "id": "fOuixqe-p41m"
      },
      "execution_count": 2,
      "outputs": []
    },
    {
      "cell_type": "code",
      "source": [
        "import findspark\n",
        "findspark.init()\n",
        "from pyspark.sql import SparkSession\n",
        "spark = SparkSession.builder.master(\"local[*]\").getOrCreate()\n",
        "spark.conf.set(\"spark.sql.repl.eagerEval.enabled\", True) # Property used to format output tables better\n",
        "spark"
      ],
      "metadata": {
        "colab": {
          "base_uri": "https://localhost:8080/",
          "height": 219
        },
        "id": "qRhRLaqdp7Yf",
        "outputId": "54da2482-720a-4fb0-c326-894951d09499"
      },
      "execution_count": 3,
      "outputs": [
        {
          "output_type": "execute_result",
          "data": {
            "text/plain": [
              "<pyspark.sql.session.SparkSession at 0x7f94a1072350>"
            ],
            "text/html": [
              "\n",
              "            <div>\n",
              "                <p><b>SparkSession - in-memory</b></p>\n",
              "                \n",
              "        <div>\n",
              "            <p><b>SparkContext</b></p>\n",
              "\n",
              "            <p><a href=\"http://f7fbcf455604:4040\">Spark UI</a></p>\n",
              "\n",
              "            <dl>\n",
              "              <dt>Version</dt>\n",
              "                <dd><code>v3.1.1</code></dd>\n",
              "              <dt>Master</dt>\n",
              "                <dd><code>local[*]</code></dd>\n",
              "              <dt>AppName</dt>\n",
              "                <dd><code>pyspark-shell</code></dd>\n",
              "            </dl>\n",
              "        </div>\n",
              "        \n",
              "            </div>\n",
              "        "
            ]
          },
          "metadata": {},
          "execution_count": 3
        }
      ]
    },
    {
      "cell_type": "code",
      "source": [
        "#load csv\n",
        "ttnc_df = spark.read.csv(\"train.csv\", header = True, inferSchema=True)\n",
        "ttnc_df"
      ],
      "metadata": {
        "colab": {
          "base_uri": "https://localhost:8080/",
          "height": 529
        },
        "id": "zbO7ai8-q7H8",
        "outputId": "90681f5b-3d9d-46f2-8ff8-5591353f908f"
      },
      "execution_count": 5,
      "outputs": [
        {
          "output_type": "execute_result",
          "data": {
            "text/plain": [
              "+-----------+--------+------+--------------------+------+----+-----+-----+----------------+-------+-----+--------+\n",
              "|PassengerId|Survived|Pclass|                Name|   Sex| Age|SibSp|Parch|          Ticket|   Fare|Cabin|Embarked|\n",
              "+-----------+--------+------+--------------------+------+----+-----+-----+----------------+-------+-----+--------+\n",
              "|          1|       0|     3|Braund, Mr. Owen ...|  male|22.0|    1|    0|       A/5 21171|   7.25| null|       S|\n",
              "|          2|       1|     1|Cumings, Mrs. Joh...|female|38.0|    1|    0|        PC 17599|71.2833|  C85|       C|\n",
              "|          3|       1|     3|Heikkinen, Miss. ...|female|26.0|    0|    0|STON/O2. 3101282|  7.925| null|       S|\n",
              "|          4|       1|     1|Futrelle, Mrs. Ja...|female|35.0|    1|    0|          113803|   53.1| C123|       S|\n",
              "|          5|       0|     3|Allen, Mr. Willia...|  male|35.0|    0|    0|          373450|   8.05| null|       S|\n",
              "|          6|       0|     3|    Moran, Mr. James|  male|null|    0|    0|          330877| 8.4583| null|       Q|\n",
              "|          7|       0|     1|McCarthy, Mr. Tim...|  male|54.0|    0|    0|           17463|51.8625|  E46|       S|\n",
              "|          8|       0|     3|Palsson, Master. ...|  male| 2.0|    3|    1|          349909| 21.075| null|       S|\n",
              "|          9|       1|     3|Johnson, Mrs. Osc...|female|27.0|    0|    2|          347742|11.1333| null|       S|\n",
              "|         10|       1|     2|Nasser, Mrs. Nich...|female|14.0|    1|    0|          237736|30.0708| null|       C|\n",
              "|         11|       1|     3|Sandstrom, Miss. ...|female| 4.0|    1|    1|         PP 9549|   16.7|   G6|       S|\n",
              "|         12|       1|     1|Bonnell, Miss. El...|female|58.0|    0|    0|          113783|  26.55| C103|       S|\n",
              "|         13|       0|     3|Saundercock, Mr. ...|  male|20.0|    0|    0|       A/5. 2151|   8.05| null|       S|\n",
              "|         14|       0|     3|Andersson, Mr. An...|  male|39.0|    1|    5|          347082| 31.275| null|       S|\n",
              "|         15|       0|     3|Vestrom, Miss. Hu...|female|14.0|    0|    0|          350406| 7.8542| null|       S|\n",
              "|         16|       1|     2|Hewlett, Mrs. (Ma...|female|55.0|    0|    0|          248706|   16.0| null|       S|\n",
              "|         17|       0|     3|Rice, Master. Eugene|  male| 2.0|    4|    1|          382652| 29.125| null|       Q|\n",
              "|         18|       1|     2|Williams, Mr. Cha...|  male|null|    0|    0|          244373|   13.0| null|       S|\n",
              "|         19|       0|     3|Vander Planke, Mr...|female|31.0|    1|    0|          345763|   18.0| null|       S|\n",
              "|         20|       1|     3|Masselmani, Mrs. ...|female|null|    0|    0|            2649|  7.225| null|       C|\n",
              "+-----------+--------+------+--------------------+------+----+-----+-----+----------------+-------+-----+--------+\n",
              "only showing top 20 rows"
            ],
            "text/html": [
              "<table border='1'>\n",
              "<tr><th>PassengerId</th><th>Survived</th><th>Pclass</th><th>Name</th><th>Sex</th><th>Age</th><th>SibSp</th><th>Parch</th><th>Ticket</th><th>Fare</th><th>Cabin</th><th>Embarked</th></tr>\n",
              "<tr><td>1</td><td>0</td><td>3</td><td>Braund, Mr. Owen ...</td><td>male</td><td>22.0</td><td>1</td><td>0</td><td>A/5 21171</td><td>7.25</td><td>null</td><td>S</td></tr>\n",
              "<tr><td>2</td><td>1</td><td>1</td><td>Cumings, Mrs. Joh...</td><td>female</td><td>38.0</td><td>1</td><td>0</td><td>PC 17599</td><td>71.2833</td><td>C85</td><td>C</td></tr>\n",
              "<tr><td>3</td><td>1</td><td>3</td><td>Heikkinen, Miss. ...</td><td>female</td><td>26.0</td><td>0</td><td>0</td><td>STON/O2. 3101282</td><td>7.925</td><td>null</td><td>S</td></tr>\n",
              "<tr><td>4</td><td>1</td><td>1</td><td>Futrelle, Mrs. Ja...</td><td>female</td><td>35.0</td><td>1</td><td>0</td><td>113803</td><td>53.1</td><td>C123</td><td>S</td></tr>\n",
              "<tr><td>5</td><td>0</td><td>3</td><td>Allen, Mr. Willia...</td><td>male</td><td>35.0</td><td>0</td><td>0</td><td>373450</td><td>8.05</td><td>null</td><td>S</td></tr>\n",
              "<tr><td>6</td><td>0</td><td>3</td><td>Moran, Mr. James</td><td>male</td><td>null</td><td>0</td><td>0</td><td>330877</td><td>8.4583</td><td>null</td><td>Q</td></tr>\n",
              "<tr><td>7</td><td>0</td><td>1</td><td>McCarthy, Mr. Tim...</td><td>male</td><td>54.0</td><td>0</td><td>0</td><td>17463</td><td>51.8625</td><td>E46</td><td>S</td></tr>\n",
              "<tr><td>8</td><td>0</td><td>3</td><td>Palsson, Master. ...</td><td>male</td><td>2.0</td><td>3</td><td>1</td><td>349909</td><td>21.075</td><td>null</td><td>S</td></tr>\n",
              "<tr><td>9</td><td>1</td><td>3</td><td>Johnson, Mrs. Osc...</td><td>female</td><td>27.0</td><td>0</td><td>2</td><td>347742</td><td>11.1333</td><td>null</td><td>S</td></tr>\n",
              "<tr><td>10</td><td>1</td><td>2</td><td>Nasser, Mrs. Nich...</td><td>female</td><td>14.0</td><td>1</td><td>0</td><td>237736</td><td>30.0708</td><td>null</td><td>C</td></tr>\n",
              "<tr><td>11</td><td>1</td><td>3</td><td>Sandstrom, Miss. ...</td><td>female</td><td>4.0</td><td>1</td><td>1</td><td>PP 9549</td><td>16.7</td><td>G6</td><td>S</td></tr>\n",
              "<tr><td>12</td><td>1</td><td>1</td><td>Bonnell, Miss. El...</td><td>female</td><td>58.0</td><td>0</td><td>0</td><td>113783</td><td>26.55</td><td>C103</td><td>S</td></tr>\n",
              "<tr><td>13</td><td>0</td><td>3</td><td>Saundercock, Mr. ...</td><td>male</td><td>20.0</td><td>0</td><td>0</td><td>A/5. 2151</td><td>8.05</td><td>null</td><td>S</td></tr>\n",
              "<tr><td>14</td><td>0</td><td>3</td><td>Andersson, Mr. An...</td><td>male</td><td>39.0</td><td>1</td><td>5</td><td>347082</td><td>31.275</td><td>null</td><td>S</td></tr>\n",
              "<tr><td>15</td><td>0</td><td>3</td><td>Vestrom, Miss. Hu...</td><td>female</td><td>14.0</td><td>0</td><td>0</td><td>350406</td><td>7.8542</td><td>null</td><td>S</td></tr>\n",
              "<tr><td>16</td><td>1</td><td>2</td><td>Hewlett, Mrs. (Ma...</td><td>female</td><td>55.0</td><td>0</td><td>0</td><td>248706</td><td>16.0</td><td>null</td><td>S</td></tr>\n",
              "<tr><td>17</td><td>0</td><td>3</td><td>Rice, Master. Eugene</td><td>male</td><td>2.0</td><td>4</td><td>1</td><td>382652</td><td>29.125</td><td>null</td><td>Q</td></tr>\n",
              "<tr><td>18</td><td>1</td><td>2</td><td>Williams, Mr. Cha...</td><td>male</td><td>null</td><td>0</td><td>0</td><td>244373</td><td>13.0</td><td>null</td><td>S</td></tr>\n",
              "<tr><td>19</td><td>0</td><td>3</td><td>Vander Planke, Mr...</td><td>female</td><td>31.0</td><td>1</td><td>0</td><td>345763</td><td>18.0</td><td>null</td><td>S</td></tr>\n",
              "<tr><td>20</td><td>1</td><td>3</td><td>Masselmani, Mrs. ...</td><td>female</td><td>null</td><td>0</td><td>0</td><td>2649</td><td>7.225</td><td>null</td><td>C</td></tr>\n",
              "</table>\n",
              "only showing top 20 rows\n"
            ]
          },
          "metadata": {},
          "execution_count": 5
        }
      ]
    },
    {
      "cell_type": "code",
      "source": [
        "ttnc_df.select('Survived', 'Fare')"
      ],
      "metadata": {
        "colab": {
          "base_uri": "https://localhost:8080/",
          "height": 529
        },
        "id": "VumU9xrdrUnB",
        "outputId": "9e6291e7-1308-463d-ecfa-faf0be6ecdda"
      },
      "execution_count": 7,
      "outputs": [
        {
          "output_type": "execute_result",
          "data": {
            "text/plain": [
              "+--------+--------+\n",
              "|Survived|    Fare|\n",
              "+--------+--------+\n",
              "|       1| 71.2833|\n",
              "|       1|   7.925|\n",
              "|       1|    53.1|\n",
              "|       1| 11.1333|\n",
              "|       1| 30.0708|\n",
              "|       1|    16.7|\n",
              "|       1|   26.55|\n",
              "|       1|    16.0|\n",
              "|       1|    13.0|\n",
              "|       1|   7.225|\n",
              "|       1|    13.0|\n",
              "|       1|  8.0292|\n",
              "|       1|    35.5|\n",
              "|       1| 31.3875|\n",
              "|       1|  7.8792|\n",
              "|       1|146.5208|\n",
              "|       1|    7.75|\n",
              "|       1|  7.2292|\n",
              "|       1| 11.2417|\n",
              "|       1| 41.5792|\n",
              "+--------+--------+\n",
              "only showing top 20 rows"
            ],
            "text/html": [
              "<table border='1'>\n",
              "<tr><th>Survived</th><th>Fare</th></tr>\n",
              "<tr><td>1</td><td>71.2833</td></tr>\n",
              "<tr><td>1</td><td>7.925</td></tr>\n",
              "<tr><td>1</td><td>53.1</td></tr>\n",
              "<tr><td>1</td><td>11.1333</td></tr>\n",
              "<tr><td>1</td><td>30.0708</td></tr>\n",
              "<tr><td>1</td><td>16.7</td></tr>\n",
              "<tr><td>1</td><td>26.55</td></tr>\n",
              "<tr><td>1</td><td>16.0</td></tr>\n",
              "<tr><td>1</td><td>13.0</td></tr>\n",
              "<tr><td>1</td><td>7.225</td></tr>\n",
              "<tr><td>1</td><td>13.0</td></tr>\n",
              "<tr><td>1</td><td>8.0292</td></tr>\n",
              "<tr><td>1</td><td>35.5</td></tr>\n",
              "<tr><td>1</td><td>31.3875</td></tr>\n",
              "<tr><td>1</td><td>7.8792</td></tr>\n",
              "<tr><td>1</td><td>146.5208</td></tr>\n",
              "<tr><td>1</td><td>7.75</td></tr>\n",
              "<tr><td>1</td><td>7.2292</td></tr>\n",
              "<tr><td>1</td><td>11.2417</td></tr>\n",
              "<tr><td>1</td><td>41.5792</td></tr>\n",
              "</table>\n",
              "only showing top 20 rows\n"
            ]
          },
          "metadata": {},
          "execution_count": 7
        }
      ]
    },
    {
      "cell_type": "code",
      "source": [
        "ttnc_df.select('Survived', 'Fare').where(ttnc_df.Survived == 1)"
      ],
      "metadata": {
        "colab": {
          "base_uri": "https://localhost:8080/",
          "height": 529
        },
        "id": "X289EThnsEwn",
        "outputId": "30b2bb51-990a-4f67-c2ad-9c313c6dd92a"
      },
      "execution_count": 9,
      "outputs": [
        {
          "output_type": "execute_result",
          "data": {
            "text/plain": [
              "+--------+--------+\n",
              "|Survived|    Fare|\n",
              "+--------+--------+\n",
              "|       1| 71.2833|\n",
              "|       1|   7.925|\n",
              "|       1|    53.1|\n",
              "|       1| 11.1333|\n",
              "|       1| 30.0708|\n",
              "|       1|    16.7|\n",
              "|       1|   26.55|\n",
              "|       1|    16.0|\n",
              "|       1|    13.0|\n",
              "|       1|   7.225|\n",
              "|       1|    13.0|\n",
              "|       1|  8.0292|\n",
              "|       1|    35.5|\n",
              "|       1| 31.3875|\n",
              "|       1|  7.8792|\n",
              "|       1|146.5208|\n",
              "|       1|    7.75|\n",
              "|       1|  7.2292|\n",
              "|       1| 11.2417|\n",
              "|       1| 41.5792|\n",
              "+--------+--------+\n",
              "only showing top 20 rows"
            ],
            "text/html": [
              "<table border='1'>\n",
              "<tr><th>Survived</th><th>Fare</th></tr>\n",
              "<tr><td>1</td><td>71.2833</td></tr>\n",
              "<tr><td>1</td><td>7.925</td></tr>\n",
              "<tr><td>1</td><td>53.1</td></tr>\n",
              "<tr><td>1</td><td>11.1333</td></tr>\n",
              "<tr><td>1</td><td>30.0708</td></tr>\n",
              "<tr><td>1</td><td>16.7</td></tr>\n",
              "<tr><td>1</td><td>26.55</td></tr>\n",
              "<tr><td>1</td><td>16.0</td></tr>\n",
              "<tr><td>1</td><td>13.0</td></tr>\n",
              "<tr><td>1</td><td>7.225</td></tr>\n",
              "<tr><td>1</td><td>13.0</td></tr>\n",
              "<tr><td>1</td><td>8.0292</td></tr>\n",
              "<tr><td>1</td><td>35.5</td></tr>\n",
              "<tr><td>1</td><td>31.3875</td></tr>\n",
              "<tr><td>1</td><td>7.8792</td></tr>\n",
              "<tr><td>1</td><td>146.5208</td></tr>\n",
              "<tr><td>1</td><td>7.75</td></tr>\n",
              "<tr><td>1</td><td>7.2292</td></tr>\n",
              "<tr><td>1</td><td>11.2417</td></tr>\n",
              "<tr><td>1</td><td>41.5792</td></tr>\n",
              "</table>\n",
              "only showing top 20 rows\n"
            ]
          },
          "metadata": {},
          "execution_count": 9
        }
      ]
    },
    {
      "cell_type": "code",
      "source": [
        "ttnc_df.groupBy('Survived').agg({'Fare':'avg'})"
      ],
      "metadata": {
        "colab": {
          "base_uri": "https://localhost:8080/",
          "height": 91
        },
        "id": "PedJiCPzsjup",
        "outputId": "9312710f-8474-46ef-96e4-243a32bac991"
      },
      "execution_count": 15,
      "outputs": [
        {
          "output_type": "execute_result",
          "data": {
            "text/plain": [
              "+--------+------------------+\n",
              "|Survived|         avg(Fare)|\n",
              "+--------+------------------+\n",
              "|       1| 48.39540760233917|\n",
              "|       0|22.117886885245877|\n",
              "+--------+------------------+"
            ],
            "text/html": [
              "<table border='1'>\n",
              "<tr><th>Survived</th><th>avg(Fare)</th></tr>\n",
              "<tr><td>1</td><td>48.39540760233917</td></tr>\n",
              "<tr><td>0</td><td>22.117886885245877</td></tr>\n",
              "</table>\n"
            ]
          },
          "metadata": {},
          "execution_count": 15
        }
      ]
    },
    {
      "cell_type": "code",
      "source": [
        "ttnc_df.where(ttnc_df.Sex == 'male').groupBy('Survived').agg({'Fare':'avg'})"
      ],
      "metadata": {
        "colab": {
          "base_uri": "https://localhost:8080/",
          "height": 91
        },
        "id": "6Fbd9PY1tawz",
        "outputId": "b6ef8fab-7acb-4fdf-f83c-55e1ebc43081"
      },
      "execution_count": 17,
      "outputs": [
        {
          "output_type": "execute_result",
          "data": {
            "text/plain": [
              "+--------+------------------+\n",
              "|Survived|         avg(Fare)|\n",
              "+--------+------------------+\n",
              "|       1| 40.82148440366974|\n",
              "|       0|21.960992948717944|\n",
              "+--------+------------------+"
            ],
            "text/html": [
              "<table border='1'>\n",
              "<tr><th>Survived</th><th>avg(Fare)</th></tr>\n",
              "<tr><td>1</td><td>40.82148440366974</td></tr>\n",
              "<tr><td>0</td><td>21.960992948717944</td></tr>\n",
              "</table>\n"
            ]
          },
          "metadata": {},
          "execution_count": 17
        }
      ]
    },
    {
      "cell_type": "code",
      "source": [
        "ttnc_df.groupBy('Sex','Survived').agg({'Fare':'avg'})"
      ],
      "metadata": {
        "colab": {
          "base_uri": "https://localhost:8080/",
          "height": 138
        },
        "id": "9PLzQqK1tpvb",
        "outputId": "1f0f63d4-8c33-4303-a0a3-b320becc7f73"
      },
      "execution_count": 19,
      "outputs": [
        {
          "output_type": "execute_result",
          "data": {
            "text/plain": [
              "+------+--------+------------------+\n",
              "|   Sex|Survived|         avg(Fare)|\n",
              "+------+--------+------------------+\n",
              "|  male|       0|21.960992948717944|\n",
              "|female|       1| 51.93857339055791|\n",
              "|female|       0| 23.02438518518519|\n",
              "|  male|       1| 40.82148440366974|\n",
              "+------+--------+------------------+"
            ],
            "text/html": [
              "<table border='1'>\n",
              "<tr><th>Sex</th><th>Survived</th><th>avg(Fare)</th></tr>\n",
              "<tr><td>male</td><td>0</td><td>21.960992948717944</td></tr>\n",
              "<tr><td>female</td><td>1</td><td>51.93857339055791</td></tr>\n",
              "<tr><td>female</td><td>0</td><td>23.02438518518519</td></tr>\n",
              "<tr><td>male</td><td>1</td><td>40.82148440366974</td></tr>\n",
              "</table>\n"
            ]
          },
          "metadata": {},
          "execution_count": 19
        }
      ]
    },
    {
      "cell_type": "code",
      "source": [
        "ttnc_df.printSchema()\n"
      ],
      "metadata": {
        "colab": {
          "base_uri": "https://localhost:8080/"
        },
        "id": "iecdJRj4wXNP",
        "outputId": "7748a91d-ca5e-4719-817a-ea0c27d710b4"
      },
      "execution_count": 24,
      "outputs": [
        {
          "output_type": "stream",
          "name": "stdout",
          "text": [
            "root\n",
            " |-- PassengerId: integer (nullable = true)\n",
            " |-- Survived: integer (nullable = true)\n",
            " |-- Pclass: integer (nullable = true)\n",
            " |-- Name: string (nullable = true)\n",
            " |-- Sex: string (nullable = true)\n",
            " |-- Age: double (nullable = true)\n",
            " |-- SibSp: integer (nullable = true)\n",
            " |-- Parch: integer (nullable = true)\n",
            " |-- Ticket: string (nullable = true)\n",
            " |-- Fare: double (nullable = true)\n",
            " |-- Cabin: string (nullable = true)\n",
            " |-- Embarked: string (nullable = true)\n",
            "\n"
          ]
        }
      ]
    },
    {
      "cell_type": "code",
      "source": [
        "from pyspark.sql.functions import when, lit\n",
        "from pyspark.sql.types import IntegerType, StringType,DoubleType\n",
        "import math\n",
        "\n",
        "\n",
        "#creating new dataframe from ttnc2 to turn survived binary to yes no, to make it easier to look at\n",
        "ttnc_df = ttnc_df.withColumn(\"Survived\", when(ttnc_df.Survived == 0, \"No\")\\\n",
        "                               .when (ttnc_df.Survived == 1, \"Yes\")\\\n",
        "                               .otherwise(ttnc_df.Survived))\n",
        "#creating new dataframe with new column organizing Age Categories\n",
        "ttnc2_df = ttnc_df.withColumn(\"AgeType\",\\\n",
        "                   when ((ttnc_df.Age <=11), lit('Child'))\\\n",
        "                    .when ((ttnc_df.Age>11) & (ttnc_df.Age<=19), lit('Teenager')) \\\n",
        "                    .when ((ttnc_df.Age >19) & (ttnc_df.Age<=60), lit('Adult')) \\\n",
        "                    .otherwise(lit('Elderly'))\\\n",
        "                    )\n",
        "\n",
        "\n",
        "ttnc2_df"
      ],
      "metadata": {
        "colab": {
          "base_uri": "https://localhost:8080/",
          "height": 529
        },
        "id": "D25aSa60uGrn",
        "outputId": "95e884ad-9f91-49e8-8c81-0d8aaba8f0af"
      },
      "execution_count": 77,
      "outputs": [
        {
          "output_type": "execute_result",
          "data": {
            "text/plain": [
              "+-----------+--------+------+--------------------+------+----+-----+-----+----------------+-------+-----+--------+--------+\n",
              "|PassengerId|Survived|Pclass|                Name|   Sex| Age|SibSp|Parch|          Ticket|   Fare|Cabin|Embarked| AgeType|\n",
              "+-----------+--------+------+--------------------+------+----+-----+-----+----------------+-------+-----+--------+--------+\n",
              "|          1|      No|     3|Braund, Mr. Owen ...|  male|22.0|    1|    0|       A/5 21171|   7.25| null|       S|   Adult|\n",
              "|          2|     Yes|     1|Cumings, Mrs. Joh...|female|38.0|    1|    0|        PC 17599|71.2833|  C85|       C|   Adult|\n",
              "|          3|     Yes|     3|Heikkinen, Miss. ...|female|26.0|    0|    0|STON/O2. 3101282|  7.925| null|       S|   Adult|\n",
              "|          4|     Yes|     1|Futrelle, Mrs. Ja...|female|35.0|    1|    0|          113803|   53.1| C123|       S|   Adult|\n",
              "|          5|      No|     3|Allen, Mr. Willia...|  male|35.0|    0|    0|          373450|   8.05| null|       S|   Adult|\n",
              "|          6|      No|     3|    Moran, Mr. James|  male|null|    0|    0|          330877| 8.4583| null|       Q| Elderly|\n",
              "|          7|      No|     1|McCarthy, Mr. Tim...|  male|54.0|    0|    0|           17463|51.8625|  E46|       S|   Adult|\n",
              "|          8|      No|     3|Palsson, Master. ...|  male| 2.0|    3|    1|          349909| 21.075| null|       S|   Child|\n",
              "|          9|     Yes|     3|Johnson, Mrs. Osc...|female|27.0|    0|    2|          347742|11.1333| null|       S|   Adult|\n",
              "|         10|     Yes|     2|Nasser, Mrs. Nich...|female|14.0|    1|    0|          237736|30.0708| null|       C|Teenager|\n",
              "|         11|     Yes|     3|Sandstrom, Miss. ...|female| 4.0|    1|    1|         PP 9549|   16.7|   G6|       S|   Child|\n",
              "|         12|     Yes|     1|Bonnell, Miss. El...|female|58.0|    0|    0|          113783|  26.55| C103|       S|   Adult|\n",
              "|         13|      No|     3|Saundercock, Mr. ...|  male|20.0|    0|    0|       A/5. 2151|   8.05| null|       S|   Adult|\n",
              "|         14|      No|     3|Andersson, Mr. An...|  male|39.0|    1|    5|          347082| 31.275| null|       S|   Adult|\n",
              "|         15|      No|     3|Vestrom, Miss. Hu...|female|14.0|    0|    0|          350406| 7.8542| null|       S|Teenager|\n",
              "|         16|     Yes|     2|Hewlett, Mrs. (Ma...|female|55.0|    0|    0|          248706|   16.0| null|       S|   Adult|\n",
              "|         17|      No|     3|Rice, Master. Eugene|  male| 2.0|    4|    1|          382652| 29.125| null|       Q|   Child|\n",
              "|         18|     Yes|     2|Williams, Mr. Cha...|  male|null|    0|    0|          244373|   13.0| null|       S| Elderly|\n",
              "|         19|      No|     3|Vander Planke, Mr...|female|31.0|    1|    0|          345763|   18.0| null|       S|   Adult|\n",
              "|         20|     Yes|     3|Masselmani, Mrs. ...|female|null|    0|    0|            2649|  7.225| null|       C| Elderly|\n",
              "+-----------+--------+------+--------------------+------+----+-----+-----+----------------+-------+-----+--------+--------+\n",
              "only showing top 20 rows"
            ],
            "text/html": [
              "<table border='1'>\n",
              "<tr><th>PassengerId</th><th>Survived</th><th>Pclass</th><th>Name</th><th>Sex</th><th>Age</th><th>SibSp</th><th>Parch</th><th>Ticket</th><th>Fare</th><th>Cabin</th><th>Embarked</th><th>AgeType</th></tr>\n",
              "<tr><td>1</td><td>No</td><td>3</td><td>Braund, Mr. Owen ...</td><td>male</td><td>22.0</td><td>1</td><td>0</td><td>A/5 21171</td><td>7.25</td><td>null</td><td>S</td><td>Adult</td></tr>\n",
              "<tr><td>2</td><td>Yes</td><td>1</td><td>Cumings, Mrs. Joh...</td><td>female</td><td>38.0</td><td>1</td><td>0</td><td>PC 17599</td><td>71.2833</td><td>C85</td><td>C</td><td>Adult</td></tr>\n",
              "<tr><td>3</td><td>Yes</td><td>3</td><td>Heikkinen, Miss. ...</td><td>female</td><td>26.0</td><td>0</td><td>0</td><td>STON/O2. 3101282</td><td>7.925</td><td>null</td><td>S</td><td>Adult</td></tr>\n",
              "<tr><td>4</td><td>Yes</td><td>1</td><td>Futrelle, Mrs. Ja...</td><td>female</td><td>35.0</td><td>1</td><td>0</td><td>113803</td><td>53.1</td><td>C123</td><td>S</td><td>Adult</td></tr>\n",
              "<tr><td>5</td><td>No</td><td>3</td><td>Allen, Mr. Willia...</td><td>male</td><td>35.0</td><td>0</td><td>0</td><td>373450</td><td>8.05</td><td>null</td><td>S</td><td>Adult</td></tr>\n",
              "<tr><td>6</td><td>No</td><td>3</td><td>Moran, Mr. James</td><td>male</td><td>null</td><td>0</td><td>0</td><td>330877</td><td>8.4583</td><td>null</td><td>Q</td><td>Elderly</td></tr>\n",
              "<tr><td>7</td><td>No</td><td>1</td><td>McCarthy, Mr. Tim...</td><td>male</td><td>54.0</td><td>0</td><td>0</td><td>17463</td><td>51.8625</td><td>E46</td><td>S</td><td>Adult</td></tr>\n",
              "<tr><td>8</td><td>No</td><td>3</td><td>Palsson, Master. ...</td><td>male</td><td>2.0</td><td>3</td><td>1</td><td>349909</td><td>21.075</td><td>null</td><td>S</td><td>Child</td></tr>\n",
              "<tr><td>9</td><td>Yes</td><td>3</td><td>Johnson, Mrs. Osc...</td><td>female</td><td>27.0</td><td>0</td><td>2</td><td>347742</td><td>11.1333</td><td>null</td><td>S</td><td>Adult</td></tr>\n",
              "<tr><td>10</td><td>Yes</td><td>2</td><td>Nasser, Mrs. Nich...</td><td>female</td><td>14.0</td><td>1</td><td>0</td><td>237736</td><td>30.0708</td><td>null</td><td>C</td><td>Teenager</td></tr>\n",
              "<tr><td>11</td><td>Yes</td><td>3</td><td>Sandstrom, Miss. ...</td><td>female</td><td>4.0</td><td>1</td><td>1</td><td>PP 9549</td><td>16.7</td><td>G6</td><td>S</td><td>Child</td></tr>\n",
              "<tr><td>12</td><td>Yes</td><td>1</td><td>Bonnell, Miss. El...</td><td>female</td><td>58.0</td><td>0</td><td>0</td><td>113783</td><td>26.55</td><td>C103</td><td>S</td><td>Adult</td></tr>\n",
              "<tr><td>13</td><td>No</td><td>3</td><td>Saundercock, Mr. ...</td><td>male</td><td>20.0</td><td>0</td><td>0</td><td>A/5. 2151</td><td>8.05</td><td>null</td><td>S</td><td>Adult</td></tr>\n",
              "<tr><td>14</td><td>No</td><td>3</td><td>Andersson, Mr. An...</td><td>male</td><td>39.0</td><td>1</td><td>5</td><td>347082</td><td>31.275</td><td>null</td><td>S</td><td>Adult</td></tr>\n",
              "<tr><td>15</td><td>No</td><td>3</td><td>Vestrom, Miss. Hu...</td><td>female</td><td>14.0</td><td>0</td><td>0</td><td>350406</td><td>7.8542</td><td>null</td><td>S</td><td>Teenager</td></tr>\n",
              "<tr><td>16</td><td>Yes</td><td>2</td><td>Hewlett, Mrs. (Ma...</td><td>female</td><td>55.0</td><td>0</td><td>0</td><td>248706</td><td>16.0</td><td>null</td><td>S</td><td>Adult</td></tr>\n",
              "<tr><td>17</td><td>No</td><td>3</td><td>Rice, Master. Eugene</td><td>male</td><td>2.0</td><td>4</td><td>1</td><td>382652</td><td>29.125</td><td>null</td><td>Q</td><td>Child</td></tr>\n",
              "<tr><td>18</td><td>Yes</td><td>2</td><td>Williams, Mr. Cha...</td><td>male</td><td>null</td><td>0</td><td>0</td><td>244373</td><td>13.0</td><td>null</td><td>S</td><td>Elderly</td></tr>\n",
              "<tr><td>19</td><td>No</td><td>3</td><td>Vander Planke, Mr...</td><td>female</td><td>31.0</td><td>1</td><td>0</td><td>345763</td><td>18.0</td><td>null</td><td>S</td><td>Adult</td></tr>\n",
              "<tr><td>20</td><td>Yes</td><td>3</td><td>Masselmani, Mrs. ...</td><td>female</td><td>null</td><td>0</td><td>0</td><td>2649</td><td>7.225</td><td>null</td><td>C</td><td>Elderly</td></tr>\n",
              "</table>\n",
              "only showing top 20 rows\n"
            ]
          },
          "metadata": {},
          "execution_count": 77
        }
      ]
    },
    {
      "cell_type": "code",
      "source": [
        "import pyspark\n",
        "from pyspark.sql.functions import col\n",
        "\n",
        "#Organizing Dataframe\n",
        "ttnc3_df = ttnc2_df.groupBy('Sex', 'AgeType', 'Survived').agg({'Fare':'avg'}).sort(col('Sex').desc(), col('Survived').desc(), col('AgeType'))\n",
        "#rename columns\n",
        "newCols=[\"Sex\", \"AgeType\", \"Survived\", \"AverageFare\"]\n",
        "ttnc3_df = ttnc3_df.toDF(*newCols)\n",
        "#average fares\n",
        "ttnc3_df = ttnc3_df.withColumn('AverageFare', pyspark.sql.functions.round(ttnc3_df['AverageFare'],2))\n",
        "\n",
        "ttnc3_df\n",
        "\n",
        "\n"
      ],
      "metadata": {
        "colab": {
          "base_uri": "https://localhost:8080/",
          "height": 418
        },
        "id": "7EMNBjx15GDL",
        "outputId": "56a852e7-496b-4ebf-e9f3-f6c3f09fb3bf"
      },
      "execution_count": 168,
      "outputs": [
        {
          "output_type": "execute_result",
          "data": {
            "text/plain": [
              "+------+--------+--------+-----------+\n",
              "|   Sex| AgeType|Survived|AverageFare|\n",
              "+------+--------+--------+-----------+\n",
              "|  male|   Adult|     Yes|      48.31|\n",
              "|  male|   Child|     Yes|      36.78|\n",
              "|  male| Elderly|     Yes|      23.18|\n",
              "|  male|Teenager|     Yes|      26.13|\n",
              "|  male|   Adult|      No|      21.33|\n",
              "|  male|   Child|      No|      33.41|\n",
              "|  male| Elderly|      No|       21.6|\n",
              "|  male|Teenager|      No|      22.81|\n",
              "|female|   Adult|     Yes|       61.6|\n",
              "|female|   Child|     Yes|      22.94|\n",
              "|female| Elderly|     Yes|      33.53|\n",
              "|female|Teenager|     Yes|      49.18|\n",
              "|female|   Adult|      No|      20.24|\n",
              "|female|   Child|      No|      35.29|\n",
              "|female| Elderly|      No|      23.98|\n",
              "|female|Teenager|      No|      16.49|\n",
              "+------+--------+--------+-----------+"
            ],
            "text/html": [
              "<table border='1'>\n",
              "<tr><th>Sex</th><th>AgeType</th><th>Survived</th><th>AverageFare</th></tr>\n",
              "<tr><td>male</td><td>Adult</td><td>Yes</td><td>48.31</td></tr>\n",
              "<tr><td>male</td><td>Child</td><td>Yes</td><td>36.78</td></tr>\n",
              "<tr><td>male</td><td>Elderly</td><td>Yes</td><td>23.18</td></tr>\n",
              "<tr><td>male</td><td>Teenager</td><td>Yes</td><td>26.13</td></tr>\n",
              "<tr><td>male</td><td>Adult</td><td>No</td><td>21.33</td></tr>\n",
              "<tr><td>male</td><td>Child</td><td>No</td><td>33.41</td></tr>\n",
              "<tr><td>male</td><td>Elderly</td><td>No</td><td>21.6</td></tr>\n",
              "<tr><td>male</td><td>Teenager</td><td>No</td><td>22.81</td></tr>\n",
              "<tr><td>female</td><td>Adult</td><td>Yes</td><td>61.6</td></tr>\n",
              "<tr><td>female</td><td>Child</td><td>Yes</td><td>22.94</td></tr>\n",
              "<tr><td>female</td><td>Elderly</td><td>Yes</td><td>33.53</td></tr>\n",
              "<tr><td>female</td><td>Teenager</td><td>Yes</td><td>49.18</td></tr>\n",
              "<tr><td>female</td><td>Adult</td><td>No</td><td>20.24</td></tr>\n",
              "<tr><td>female</td><td>Child</td><td>No</td><td>35.29</td></tr>\n",
              "<tr><td>female</td><td>Elderly</td><td>No</td><td>23.98</td></tr>\n",
              "<tr><td>female</td><td>Teenager</td><td>No</td><td>16.49</td></tr>\n",
              "</table>\n"
            ]
          },
          "metadata": {},
          "execution_count": 168
        }
      ]
    },
    {
      "cell_type": "code",
      "source": [
        "ttnc_survivors = ttnc3_df.where(ttnc3_df.Survived == 'Yes')\n",
        "average_male_cost_survivor = ttnc_survivors.where(ttnc_survivors.Sex == 'male').agg({'AverageFare':'avg'}).head()[0]\n",
        "# average_male_count_survivor = \n",
        "Survivors_df = ttnc_df.where(ttnc_df.Survived == 1)\n",
        "Survivors_df.show()\n",
        "MaleSurvivors_df = Survivors_df.where(Survivors_df.Sex == 'male')\n",
        "MaleSurvivors_df.show()\n",
        "average_female_cost_survivor = ttnc_survivors.where(ttnc_survivors.Sex == 'female').agg({'AverageFare':'avg'}).head()[0]\n",
        "print(f\"The average price for the {average_male_count_survivor} Men that survived, : $ %.2f\" % average_male_cost_survivor)\n",
        "print(\"The average price for Women that survived, : $ %.2f\" % average_female_cost_survivor)\n",
        "ttnc3_df.where(ttnc3_df.Survived =='No').show()"
      ],
      "metadata": {
        "id": "mRvDVhOSMjwf"
      },
      "execution_count": null,
      "outputs": []
    }
  ]
}