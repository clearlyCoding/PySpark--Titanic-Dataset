{
  "nbformat": 4,
  "nbformat_minor": 0,
  "metadata": {
    "colab": {
      "name": "Untitled0.ipynb",
      "provenance": [],
      "authorship_tag": "ABX9TyOuhvkfD4sNAVPrHb9jgRB+",
      "include_colab_link": true
    },
    "kernelspec": {
      "name": "python3",
      "display_name": "Python 3"
    },
    "language_info": {
      "name": "python"
    }
  },
  "cells": [
    {
      "cell_type": "markdown",
      "metadata": {
        "id": "view-in-github",
        "colab_type": "text"
      },
      "source": [
        "<a href=\"https://colab.research.google.com/github/clearlyCoding/PySpark--Titanic-Dataset/blob/main/Untitled0.ipynb\" target=\"_parent\"><img src=\"https://colab.research.google.com/assets/colab-badge.svg\" alt=\"Open In Colab\"/></a>"
      ]
    },
    {
      "cell_type": "code",
      "execution_count": 1,
      "metadata": {
        "id": "qeSa7cAUpkbr"
      },
      "outputs": [],
      "source": [
        "!apt-get install openjdk-8-jdk-headless -qq > /dev/null\n",
        "!wget -q http://archive.apache.org/dist/spark/spark-3.1.1/spark-3.1.1-bin-hadoop3.2.tgz\n",
        "!tar xf spark-3.1.1-bin-hadoop3.2.tgz\n",
        "!pip install -q findspark\n"
      ]
    },
    {
      "cell_type": "code",
      "source": [
        "import os\n",
        "os.environ[\"JAVA_HOME\"] = \"/usr/lib/jvm/java-8-openjdk-amd64\"\n",
        "os.environ[\"SPARK_HOME\"] = \"/content/spark-3.1.1-bin-hadoop3.2\"\n"
      ],
      "metadata": {
        "id": "fOuixqe-p41m"
      },
      "execution_count": 2,
      "outputs": []
    },
    {
      "cell_type": "code",
      "source": [
        "import findspark\n",
        "findspark.init()\n",
        "from pyspark.sql import SparkSession\n",
        "spark = SparkSession.builder.master(\"local[*]\").getOrCreate()\n",
        "spark.conf.set(\"spark.sql.repl.eagerEval.enabled\", True) # Property used to format output tables better\n",
        "spark"
      ],
      "metadata": {
        "colab": {
          "base_uri": "https://localhost:8080/",
          "height": 219
        },
        "id": "qRhRLaqdp7Yf",
        "outputId": "54da2482-720a-4fb0-c326-894951d09499"
      },
      "execution_count": 3,
      "outputs": [
        {
          "output_type": "execute_result",
          "data": {
            "text/plain": [
              "<pyspark.sql.session.SparkSession at 0x7f94a1072350>"
            ],
            "text/html": [
              "\n",
              "            <div>\n",
              "                <p><b>SparkSession - in-memory</b></p>\n",
              "                \n",
              "        <div>\n",
              "            <p><b>SparkContext</b></p>\n",
              "\n",
              "            <p><a href=\"http://f7fbcf455604:4040\">Spark UI</a></p>\n",
              "\n",
              "            <dl>\n",
              "              <dt>Version</dt>\n",
              "                <dd><code>v3.1.1</code></dd>\n",
              "              <dt>Master</dt>\n",
              "                <dd><code>local[*]</code></dd>\n",
              "              <dt>AppName</dt>\n",
              "                <dd><code>pyspark-shell</code></dd>\n",
              "            </dl>\n",
              "        </div>\n",
              "        \n",
              "            </div>\n",
              "        "
            ]
          },
          "metadata": {},
          "execution_count": 3
        }
      ]
    },
    {
      "cell_type": "code",
      "source": [
        "#load csv\n",
        "ttnc_df = spark.read.csv(\"train.csv\", header = True, inferSchema=True)\n",
        "ttnc_df"
      ],
      "metadata": {
        "colab": {
          "base_uri": "https://localhost:8080/",
          "height": 529
        },
        "id": "zbO7ai8-q7H8",
        "outputId": "90681f5b-3d9d-46f2-8ff8-5591353f908f"
      },
      "execution_count": 5,
      "outputs": [
        {
          "output_type": "execute_result",
          "data": {
            "text/plain": [
              "+-----------+--------+------+--------------------+------+----+-----+-----+----------------+-------+-----+--------+\n",
              "|PassengerId|Survived|Pclass|                Name|   Sex| Age|SibSp|Parch|          Ticket|   Fare|Cabin|Embarked|\n",
              "+-----------+--------+------+--------------------+------+----+-----+-----+----------------+-------+-----+--------+\n",
              "|          1|       0|     3|Braund, Mr. Owen ...|  male|22.0|    1|    0|       A/5 21171|   7.25| null|       S|\n",
              "|          2|       1|     1|Cumings, Mrs. Joh...|female|38.0|    1|    0|        PC 17599|71.2833|  C85|       C|\n",
              "|          3|       1|     3|Heikkinen, Miss. ...|female|26.0|    0|    0|STON/O2. 3101282|  7.925| null|       S|\n",
              "|          4|       1|     1|Futrelle, Mrs. Ja...|female|35.0|    1|    0|          113803|   53.1| C123|       S|\n",
              "|          5|       0|     3|Allen, Mr. Willia...|  male|35.0|    0|    0|          373450|   8.05| null|       S|\n",
              "|          6|       0|     3|    Moran, Mr. James|  male|null|    0|    0|          330877| 8.4583| null|       Q|\n",
              "|          7|       0|     1|McCarthy, Mr. Tim...|  male|54.0|    0|    0|           17463|51.8625|  E46|       S|\n",
              "|          8|       0|     3|Palsson, Master. ...|  male| 2.0|    3|    1|          349909| 21.075| null|       S|\n",
              "|          9|       1|     3|Johnson, Mrs. Osc...|female|27.0|    0|    2|          347742|11.1333| null|       S|\n",
              "|         10|       1|     2|Nasser, Mrs. Nich...|female|14.0|    1|    0|          237736|30.0708| null|       C|\n",
              "|         11|       1|     3|Sandstrom, Miss. ...|female| 4.0|    1|    1|         PP 9549|   16.7|   G6|       S|\n",
              "|         12|       1|     1|Bonnell, Miss. El...|female|58.0|    0|    0|          113783|  26.55| C103|       S|\n",
              "|         13|       0|     3|Saundercock, Mr. ...|  male|20.0|    0|    0|       A/5. 2151|   8.05| null|       S|\n",
              "|         14|       0|     3|Andersson, Mr. An...|  male|39.0|    1|    5|          347082| 31.275| null|       S|\n",
              "|         15|       0|     3|Vestrom, Miss. Hu...|female|14.0|    0|    0|          350406| 7.8542| null|       S|\n",
              "|         16|       1|     2|Hewlett, Mrs. (Ma...|female|55.0|    0|    0|          248706|   16.0| null|       S|\n",
              "|         17|       0|     3|Rice, Master. Eugene|  male| 2.0|    4|    1|          382652| 29.125| null|       Q|\n",
              "|         18|       1|     2|Williams, Mr. Cha...|  male|null|    0|    0|          244373|   13.0| null|       S|\n",
              "|         19|       0|     3|Vander Planke, Mr...|female|31.0|    1|    0|          345763|   18.0| null|       S|\n",
              "|         20|       1|     3|Masselmani, Mrs. ...|female|null|    0|    0|            2649|  7.225| null|       C|\n",
              "+-----------+--------+------+--------------------+------+----+-----+-----+----------------+-------+-----+--------+\n",
              "only showing top 20 rows"
            ],
            "text/html": [
              "<table border='1'>\n",
              "<tr><th>PassengerId</th><th>Survived</th><th>Pclass</th><th>Name</th><th>Sex</th><th>Age</th><th>SibSp</th><th>Parch</th><th>Ticket</th><th>Fare</th><th>Cabin</th><th>Embarked</th></tr>\n",
              "<tr><td>1</td><td>0</td><td>3</td><td>Braund, Mr. Owen ...</td><td>male</td><td>22.0</td><td>1</td><td>0</td><td>A/5 21171</td><td>7.25</td><td>null</td><td>S</td></tr>\n",
              "<tr><td>2</td><td>1</td><td>1</td><td>Cumings, Mrs. Joh...</td><td>female</td><td>38.0</td><td>1</td><td>0</td><td>PC 17599</td><td>71.2833</td><td>C85</td><td>C</td></tr>\n",
              "<tr><td>3</td><td>1</td><td>3</td><td>Heikkinen, Miss. ...</td><td>female</td><td>26.0</td><td>0</td><td>0</td><td>STON/O2. 3101282</td><td>7.925</td><td>null</td><td>S</td></tr>\n",
              "<tr><td>4</td><td>1</td><td>1</td><td>Futrelle, Mrs. Ja...</td><td>female</td><td>35.0</td><td>1</td><td>0</td><td>113803</td><td>53.1</td><td>C123</td><td>S</td></tr>\n",
              "<tr><td>5</td><td>0</td><td>3</td><td>Allen, Mr. Willia...</td><td>male</td><td>35.0</td><td>0</td><td>0</td><td>373450</td><td>8.05</td><td>null</td><td>S</td></tr>\n",
              "<tr><td>6</td><td>0</td><td>3</td><td>Moran, Mr. James</td><td>male</td><td>null</td><td>0</td><td>0</td><td>330877</td><td>8.4583</td><td>null</td><td>Q</td></tr>\n",
              "<tr><td>7</td><td>0</td><td>1</td><td>McCarthy, Mr. Tim...</td><td>male</td><td>54.0</td><td>0</td><td>0</td><td>17463</td><td>51.8625</td><td>E46</td><td>S</td></tr>\n",
              "<tr><td>8</td><td>0</td><td>3</td><td>Palsson, Master. ...</td><td>male</td><td>2.0</td><td>3</td><td>1</td><td>349909</td><td>21.075</td><td>null</td><td>S</td></tr>\n",
              "<tr><td>9</td><td>1</td><td>3</td><td>Johnson, Mrs. Osc...</td><td>female</td><td>27.0</td><td>0</td><td>2</td><td>347742</td><td>11.1333</td><td>null</td><td>S</td></tr>\n",
              "<tr><td>10</td><td>1</td><td>2</td><td>Nasser, Mrs. Nich...</td><td>female</td><td>14.0</td><td>1</td><td>0</td><td>237736</td><td>30.0708</td><td>null</td><td>C</td></tr>\n",
              "<tr><td>11</td><td>1</td><td>3</td><td>Sandstrom, Miss. ...</td><td>female</td><td>4.0</td><td>1</td><td>1</td><td>PP 9549</td><td>16.7</td><td>G6</td><td>S</td></tr>\n",
              "<tr><td>12</td><td>1</td><td>1</td><td>Bonnell, Miss. El...</td><td>female</td><td>58.0</td><td>0</td><td>0</td><td>113783</td><td>26.55</td><td>C103</td><td>S</td></tr>\n",
              "<tr><td>13</td><td>0</td><td>3</td><td>Saundercock, Mr. ...</td><td>male</td><td>20.0</td><td>0</td><td>0</td><td>A/5. 2151</td><td>8.05</td><td>null</td><td>S</td></tr>\n",
              "<tr><td>14</td><td>0</td><td>3</td><td>Andersson, Mr. An...</td><td>male</td><td>39.0</td><td>1</td><td>5</td><td>347082</td><td>31.275</td><td>null</td><td>S</td></tr>\n",
              "<tr><td>15</td><td>0</td><td>3</td><td>Vestrom, Miss. Hu...</td><td>female</td><td>14.0</td><td>0</td><td>0</td><td>350406</td><td>7.8542</td><td>null</td><td>S</td></tr>\n",
              "<tr><td>16</td><td>1</td><td>2</td><td>Hewlett, Mrs. (Ma...</td><td>female</td><td>55.0</td><td>0</td><td>0</td><td>248706</td><td>16.0</td><td>null</td><td>S</td></tr>\n",
              "<tr><td>17</td><td>0</td><td>3</td><td>Rice, Master. Eugene</td><td>male</td><td>2.0</td><td>4</td><td>1</td><td>382652</td><td>29.125</td><td>null</td><td>Q</td></tr>\n",
              "<tr><td>18</td><td>1</td><td>2</td><td>Williams, Mr. Cha...</td><td>male</td><td>null</td><td>0</td><td>0</td><td>244373</td><td>13.0</td><td>null</td><td>S</td></tr>\n",
              "<tr><td>19</td><td>0</td><td>3</td><td>Vander Planke, Mr...</td><td>female</td><td>31.0</td><td>1</td><td>0</td><td>345763</td><td>18.0</td><td>null</td><td>S</td></tr>\n",
              "<tr><td>20</td><td>1</td><td>3</td><td>Masselmani, Mrs. ...</td><td>female</td><td>null</td><td>0</td><td>0</td><td>2649</td><td>7.225</td><td>null</td><td>C</td></tr>\n",
              "</table>\n",
              "only showing top 20 rows\n"
            ]
          },
          "metadata": {},
          "execution_count": 5
        }
      ]
    },
    {
      "cell_type": "code",
      "source": [
        "ttnc_df.select('Survived', 'Fare')"
      ],
      "metadata": {
        "colab": {
          "base_uri": "https://localhost:8080/",
          "height": 529
        },
        "id": "VumU9xrdrUnB",
        "outputId": "9e6291e7-1308-463d-ecfa-faf0be6ecdda"
      },
      "execution_count": 7,
      "outputs": [
        {
          "output_type": "execute_result",
          "data": {
            "text/plain": [
              "+--------+--------+\n",
              "|Survived|    Fare|\n",
              "+--------+--------+\n",
              "|       1| 71.2833|\n",
              "|       1|   7.925|\n",
              "|       1|    53.1|\n",
              "|       1| 11.1333|\n",
              "|       1| 30.0708|\n",
              "|       1|    16.7|\n",
              "|       1|   26.55|\n",
              "|       1|    16.0|\n",
              "|       1|    13.0|\n",
              "|       1|   7.225|\n",
              "|       1|    13.0|\n",
              "|       1|  8.0292|\n",
              "|       1|    35.5|\n",
              "|       1| 31.3875|\n",
              "|       1|  7.8792|\n",
              "|       1|146.5208|\n",
              "|       1|    7.75|\n",
              "|       1|  7.2292|\n",
              "|       1| 11.2417|\n",
              "|       1| 41.5792|\n",
              "+--------+--------+\n",
              "only showing top 20 rows"
            ],
            "text/html": [
              "<table border='1'>\n",
              "<tr><th>Survived</th><th>Fare</th></tr>\n",
              "<tr><td>1</td><td>71.2833</td></tr>\n",
              "<tr><td>1</td><td>7.925</td></tr>\n",
              "<tr><td>1</td><td>53.1</td></tr>\n",
              "<tr><td>1</td><td>11.1333</td></tr>\n",
              "<tr><td>1</td><td>30.0708</td></tr>\n",
              "<tr><td>1</td><td>16.7</td></tr>\n",
              "<tr><td>1</td><td>26.55</td></tr>\n",
              "<tr><td>1</td><td>16.0</td></tr>\n",
              "<tr><td>1</td><td>13.0</td></tr>\n",
              "<tr><td>1</td><td>7.225</td></tr>\n",
              "<tr><td>1</td><td>13.0</td></tr>\n",
              "<tr><td>1</td><td>8.0292</td></tr>\n",
              "<tr><td>1</td><td>35.5</td></tr>\n",
              "<tr><td>1</td><td>31.3875</td></tr>\n",
              "<tr><td>1</td><td>7.8792</td></tr>\n",
              "<tr><td>1</td><td>146.5208</td></tr>\n",
              "<tr><td>1</td><td>7.75</td></tr>\n",
              "<tr><td>1</td><td>7.2292</td></tr>\n",
              "<tr><td>1</td><td>11.2417</td></tr>\n",
              "<tr><td>1</td><td>41.5792</td></tr>\n",
              "</table>\n",
              "only showing top 20 rows\n"
            ]
          },
          "metadata": {},
          "execution_count": 7
        }
      ]
    },
    {
      "cell_type": "code",
      "source": [
        "ttnc_df.select('Survived', 'Fare').where(ttnc_df.Survived == 1)"
      ],
      "metadata": {
        "colab": {
          "base_uri": "https://localhost:8080/",
          "height": 529
        },
        "id": "X289EThnsEwn",
        "outputId": "30b2bb51-990a-4f67-c2ad-9c313c6dd92a"
      },
      "execution_count": 9,
      "outputs": [
        {
          "output_type": "execute_result",
          "data": {
            "text/plain": [
              "+--------+--------+\n",
              "|Survived|    Fare|\n",
              "+--------+--------+\n",
              "|       1| 71.2833|\n",
              "|       1|   7.925|\n",
              "|       1|    53.1|\n",
              "|       1| 11.1333|\n",
              "|       1| 30.0708|\n",
              "|       1|    16.7|\n",
              "|       1|   26.55|\n",
              "|       1|    16.0|\n",
              "|       1|    13.0|\n",
              "|       1|   7.225|\n",
              "|       1|    13.0|\n",
              "|       1|  8.0292|\n",
              "|       1|    35.5|\n",
              "|       1| 31.3875|\n",
              "|       1|  7.8792|\n",
              "|       1|146.5208|\n",
              "|       1|    7.75|\n",
              "|       1|  7.2292|\n",
              "|       1| 11.2417|\n",
              "|       1| 41.5792|\n",
              "+--------+--------+\n",
              "only showing top 20 rows"
            ],
            "text/html": [
              "<table border='1'>\n",
              "<tr><th>Survived</th><th>Fare</th></tr>\n",
              "<tr><td>1</td><td>71.2833</td></tr>\n",
              "<tr><td>1</td><td>7.925</td></tr>\n",
              "<tr><td>1</td><td>53.1</td></tr>\n",
              "<tr><td>1</td><td>11.1333</td></tr>\n",
              "<tr><td>1</td><td>30.0708</td></tr>\n",
              "<tr><td>1</td><td>16.7</td></tr>\n",
              "<tr><td>1</td><td>26.55</td></tr>\n",
              "<tr><td>1</td><td>16.0</td></tr>\n",
              "<tr><td>1</td><td>13.0</td></tr>\n",
              "<tr><td>1</td><td>7.225</td></tr>\n",
              "<tr><td>1</td><td>13.0</td></tr>\n",
              "<tr><td>1</td><td>8.0292</td></tr>\n",
              "<tr><td>1</td><td>35.5</td></tr>\n",
              "<tr><td>1</td><td>31.3875</td></tr>\n",
              "<tr><td>1</td><td>7.8792</td></tr>\n",
              "<tr><td>1</td><td>146.5208</td></tr>\n",
              "<tr><td>1</td><td>7.75</td></tr>\n",
              "<tr><td>1</td><td>7.2292</td></tr>\n",
              "<tr><td>1</td><td>11.2417</td></tr>\n",
              "<tr><td>1</td><td>41.5792</td></tr>\n",
              "</table>\n",
              "only showing top 20 rows\n"
            ]
          },
          "metadata": {},
          "execution_count": 9
        }
      ]
    },
    {
      "cell_type": "code",
      "source": [
        "ttnc_df.groupBy('Survived').agg({'Fare':'avg'})"
      ],
      "metadata": {
        "colab": {
          "base_uri": "https://localhost:8080/",
          "height": 91
        },
        "id": "PedJiCPzsjup",
        "outputId": "9312710f-8474-46ef-96e4-243a32bac991"
      },
      "execution_count": 15,
      "outputs": [
        {
          "output_type": "execute_result",
          "data": {
            "text/plain": [
              "+--------+------------------+\n",
              "|Survived|         avg(Fare)|\n",
              "+--------+------------------+\n",
              "|       1| 48.39540760233917|\n",
              "|       0|22.117886885245877|\n",
              "+--------+------------------+"
            ],
            "text/html": [
              "<table border='1'>\n",
              "<tr><th>Survived</th><th>avg(Fare)</th></tr>\n",
              "<tr><td>1</td><td>48.39540760233917</td></tr>\n",
              "<tr><td>0</td><td>22.117886885245877</td></tr>\n",
              "</table>\n"
            ]
          },
          "metadata": {},
          "execution_count": 15
        }
      ]
    },
    {
      "cell_type": "code",
      "source": [
        "ttnc_df.where(ttnc_df.Sex == 'male').groupBy('Survived').agg({'Fare':'avg'})"
      ],
      "metadata": {
        "colab": {
          "base_uri": "https://localhost:8080/",
          "height": 91
        },
        "id": "6Fbd9PY1tawz",
        "outputId": "b6ef8fab-7acb-4fdf-f83c-55e1ebc43081"
      },
      "execution_count": 17,
      "outputs": [
        {
          "output_type": "execute_result",
          "data": {
            "text/plain": [
              "+--------+------------------+\n",
              "|Survived|         avg(Fare)|\n",
              "+--------+------------------+\n",
              "|       1| 40.82148440366974|\n",
              "|       0|21.960992948717944|\n",
              "+--------+------------------+"
            ],
            "text/html": [
              "<table border='1'>\n",
              "<tr><th>Survived</th><th>avg(Fare)</th></tr>\n",
              "<tr><td>1</td><td>40.82148440366974</td></tr>\n",
              "<tr><td>0</td><td>21.960992948717944</td></tr>\n",
              "</table>\n"
            ]
          },
          "metadata": {},
          "execution_count": 17
        }
      ]
    },
    {
      "cell_type": "code",
      "source": [
        "ttnc_df.groupBy('Sex','Survived').agg({'Fare':'avg'})"
      ],
      "metadata": {
        "colab": {
          "base_uri": "https://localhost:8080/",
          "height": 138
        },
        "id": "9PLzQqK1tpvb",
        "outputId": "1f0f63d4-8c33-4303-a0a3-b320becc7f73"
      },
      "execution_count": 19,
      "outputs": [
        {
          "output_type": "execute_result",
          "data": {
            "text/plain": [
              "+------+--------+------------------+\n",
              "|   Sex|Survived|         avg(Fare)|\n",
              "+------+--------+------------------+\n",
              "|  male|       0|21.960992948717944|\n",
              "|female|       1| 51.93857339055791|\n",
              "|female|       0| 23.02438518518519|\n",
              "|  male|       1| 40.82148440366974|\n",
              "+------+--------+------------------+"
            ],
            "text/html": [
              "<table border='1'>\n",
              "<tr><th>Sex</th><th>Survived</th><th>avg(Fare)</th></tr>\n",
              "<tr><td>male</td><td>0</td><td>21.960992948717944</td></tr>\n",
              "<tr><td>female</td><td>1</td><td>51.93857339055791</td></tr>\n",
              "<tr><td>female</td><td>0</td><td>23.02438518518519</td></tr>\n",
              "<tr><td>male</td><td>1</td><td>40.82148440366974</td></tr>\n",
              "</table>\n"
            ]
          },
          "metadata": {},
          "execution_count": 19
        }
      ]
    },
    {
      "cell_type": "code",
      "source": [
        "from pyspark.sql.types import IntegerType, StringType\n",
        "import math\n",
        "\n",
        "def create_cat(y):\n",
        "  if y == \"Age\":\n",
        "    pass\n",
        "  else:\n",
        "    print(y)\n",
        "    x = int(y)\n",
        "    if x<=10:\n",
        "      ret= \"Child\"\n",
        "    if x>10 and x<20:\n",
        "      ret = \"Teenager\"\n",
        "    if x>20 and x<60:\n",
        "      ret = \"Adult\"\n",
        "    if x>=60:\n",
        "      ret = \"Elderly\" \n",
        "    \n",
        "    return ret\n",
        "\n",
        "create_cat_udf = udf(create_cat, StringType())\n",
        "ttnc_df.select(create_cat_udf('Age'))\n"
      ],
      "metadata": {
        "id": "D25aSa60uGrn"
      },
      "execution_count": null,
      "outputs": []
    },
    {
      "cell_type": "code",
      "source": [
        "ttnc_df.printSchema()\n"
      ],
      "metadata": {
        "colab": {
          "base_uri": "https://localhost:8080/"
        },
        "id": "iecdJRj4wXNP",
        "outputId": "7748a91d-ca5e-4719-817a-ea0c27d710b4"
      },
      "execution_count": 24,
      "outputs": [
        {
          "output_type": "stream",
          "name": "stdout",
          "text": [
            "root\n",
            " |-- PassengerId: integer (nullable = true)\n",
            " |-- Survived: integer (nullable = true)\n",
            " |-- Pclass: integer (nullable = true)\n",
            " |-- Name: string (nullable = true)\n",
            " |-- Sex: string (nullable = true)\n",
            " |-- Age: double (nullable = true)\n",
            " |-- SibSp: integer (nullable = true)\n",
            " |-- Parch: integer (nullable = true)\n",
            " |-- Ticket: string (nullable = true)\n",
            " |-- Fare: double (nullable = true)\n",
            " |-- Cabin: string (nullable = true)\n",
            " |-- Embarked: string (nullable = true)\n",
            "\n"
          ]
        }
      ]
    }
  ]
}